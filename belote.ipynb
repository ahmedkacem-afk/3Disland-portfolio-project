{
  "nbformat": 4,
  "nbformat_minor": 0,
  "metadata": {
    "colab": {
      "provenance": [],
      "authorship_tag": "ABX9TyNnlB4Qjj9rHvVVMRmFF2EA",
      "include_colab_link": true
    },
    "kernelspec": {
      "name": "python3",
      "display_name": "Python 3"
    },
    "language_info": {
      "name": "python"
    }
  },
  "cells": [
    {
      "cell_type": "markdown",
      "metadata": {
        "id": "view-in-github",
        "colab_type": "text"
      },
      "source": [
        "<a href=\"https://colab.research.google.com/github/ahmedkacem-afk/3Disland-portfolio-project/blob/main/belote.ipynb\" target=\"_parent\"><img src=\"https://colab.research.google.com/assets/colab-badge.svg\" alt=\"Open In Colab\"/></a>"
      ]
    },
    {
      "cell_type": "code",
      "source": [
        "import random as rd\n",
        "import numpy as np\n",
        "from itertools import cycle,islice"
      ],
      "metadata": {
        "id": "p_9bfNiHoguM"
      },
      "execution_count": null,
      "outputs": []
    },
    {
      "cell_type": "code",
      "source": [
        "\n",
        "\n",
        "def sort_by_attribute(obj):\n",
        "  color_order = {\"sbata\": 0, \"trefel\": 2, \"coeur\": 1, \"dinary\": 3}\n",
        "  return (color_order[obj.suit],card_root_hors_atout[obj.rank])\n",
        "\n",
        "def shuffle_cards(cards,k=32):\n",
        "    return rd.sample(cards,k)"
      ],
      "metadata": {
        "id": "kcxqvOpColgm"
      },
      "execution_count": null,
      "outputs": []
    },
    {
      "cell_type": "code",
      "source": [
        "D={\"D\":3}\n",
        "R={\"R\":4}\n",
        "V ={\"V\":2} #changes to 20 in the Atout\n",
        "quatorze = {\"9\":0} #changes to 14 in the Atout\n",
        "dix={\"10\":10}\n",
        "las={\"1\":11}\n",
        "sept={\"7\":0}\n",
        "huite={\"8\":0}\n",
        "card_root_hors_atout ={}\n",
        "card_root_hors_atout.update(sept)\n",
        "card_root_hors_atout.update(huite)\n",
        "card_root_hors_atout.update(quatorze)\n",
        "card_root_hors_atout.update(V)\n",
        "card_root_hors_atout.update(D)\n",
        "card_root_hors_atout.update(R)\n",
        "card_root_hors_atout.update(dix)\n",
        "card_root_hors_atout.update(las)\n",
        "\n",
        "card_root_atout=card_root_hors_atout\n",
        "card_root_atout[\"9\"]=14\n",
        "card_root_atout[\"V\"]=20\n",
        "value_to_move={\"9\":card_root_atout.pop(\"9\")}\n",
        "card_root_atout.update(value_to_move)\n",
        "value_to_move={\"V\":card_root_atout.pop(\"V\")}\n",
        "card_root_atout.update(value_to_move)\n",
        "\n",
        "\n",
        "#make the 4 card types ; each type has 8 cards\n",
        "sbata_cards=[Card(rank,\"sbata\") for  rank in card_root_hors_atout]\n",
        "trefel_cards=[Card(rank,\"trefel\") for  rank in card_root_hors_atout]\n",
        "dinary_cards=[Card(rank,\"dinary\") for  rank in card_root_hors_atout]\n",
        "coeur_cards=[Card(rank,\"coeur\") for  rank in card_root_hors_atout]\n",
        "\n",
        "\n"
      ],
      "metadata": {
        "id": "1alOKxHcok2S"
      },
      "execution_count": null,
      "outputs": []
    },
    {
      "cell_type": "code",
      "source": [
        "class Card:\n",
        "    def __init__(self,rank,suit):\n",
        "        self.rank = rank\n",
        "        self.suit = suit\n",
        "\n",
        "class Player:\n",
        "  def __init__(self,name):\n",
        "    self.name=name\n",
        "    self.cards=[]\n",
        "    self.is_serving=False\n",
        "    self.is_computer=False\n",
        "  def add_cards(self,cards_to_add):\n",
        "    self.cards+=cards_to_add\n",
        "  def show_cards(self):\n",
        "    for card in self.cards:\n",
        "      print(f\"{card.rank}  {card.suit}\")\n",
        "    print(\"******************\\n\")\n",
        "    #more work\n",
        "  def arrange_cards(self):\n",
        "    self.cards=sorted(self.cards , key=sort_by_attribute )\n",
        "  def get_cards(self):\n",
        "    return self.cards"
      ],
      "metadata": {
        "id": "vHva1LfAolVo"
      },
      "execution_count": null,
      "outputs": []
    },
    {
      "cell_type": "code",
      "source": [
        "def first_to_get_cards(players):\n",
        "\n",
        "  for player in players:\n",
        "    if player.is_serving :\n",
        "      starting_point=players.index(player)\n",
        "      if starting_point == 3 :\n",
        "        starting_point = -1\n",
        "      cycling_array = cycle(islice(players, starting_point+1, None))\n",
        "      serving_order=[]\n",
        "      for i in range(4):\n",
        "        serving_order.append(next(cycling_array))\n",
        "      return serving_order\n",
        "player1=Player(\"Ahmed\")\n",
        "player2=Player(\"Mohammed\")\n",
        "player3=Player(\"Mokhtar\")\n",
        "player4=Player(\"Emir\")\n",
        "player3.is_serving=True\n",
        "\n",
        "players=[player1,player2,player3,player4]\n",
        "round_order=first_to_get_cards(players)\n",
        "\n",
        "def choose_the_atout(players,cards):\n",
        "  for player in players:\n",
        "    if not player.is_computer:\n",
        "      player.show_cards()\n",
        "      atout=input(\"click on the card of the type you want to be the atout \")"
      ],
      "metadata": {
        "colab": {
          "base_uri": "https://localhost:8080/"
        },
        "id": "6Rl_y3ZtpCKm",
        "outputId": "e7e48373-2505-41ed-94dc-d784b3d833e2"
      },
      "execution_count": null,
      "outputs": [
        {
          "output_type": "stream",
          "name": "stdout",
          "text": [
            "Emir\n"
          ]
        }
      ]
    },
    {
      "cell_type": "code",
      "source": [
        "def serve_cards(cards,times,players):\n",
        "  if times==1 :\n",
        "    players[0].add_cards(cards[0:8])\n",
        "    players[1].add_cards(cards[8:16])\n",
        "    players[2].add_cards(cards[16:24])\n",
        "    players[3].add_cards(cards[24::])\n",
        "  elif times == 2 :\n",
        "    players[0].add_cards(cards[0:4])\n",
        "    players[0].add_cards(cards[16:20])\n",
        "\n",
        "    players[1].add_cards(cards[4:8])\n",
        "    players[1].add_cards(cards[20:24])\n",
        "\n",
        "    players[2].add_cards(cards[8:12])\n",
        "    players[2].add_cards(cards[24:28])\n",
        "\n",
        "    players[3].add_cards(cards[12:16])\n",
        "    players[3].add_cards(cards[28:32])\n",
        "  else:\n",
        "    players[0].add_cards(cards[0:3])\n",
        "    players[0].add_cards(cards[12:14])\n",
        "    players[0].add_cards(cards[20:23])\n",
        "\n",
        "    players[1].add_cards(cards[3:6])\n",
        "    players[1].add_cards(cards[14:16])\n",
        "    players[1].add_cards(cards[23:26])\n",
        "\n",
        "    players[2].add_cards(cards[6:9])\n",
        "    players[2].add_cards(cards[16:18])\n",
        "    players[2].add_cards(cards[26:29])\n",
        "\n",
        "    players[3].add_cards(cards[9:12])\n",
        "    players[3].add_cards(cards[18:20])\n",
        "    players[3].add_cards(cards[29:32])\n",
        "\n",
        "\n"
      ],
      "metadata": {
        "id": "xKNIEvNzol-y"
      },
      "execution_count": null,
      "outputs": []
    },
    {
      "cell_type": "code",
      "execution_count": null,
      "metadata": {
        "colab": {
          "base_uri": "https://localhost:8080/"
        },
        "id": "glyFqQ1CWgrl",
        "outputId": "dca2dc92-e2df-4217-f735-95d21426fec1"
      },
      "outputs": [
        {
          "output_type": "stream",
          "name": "stdout",
          "text": [
            "0\n",
            "1\n",
            "2\n",
            "3\n"
          ]
        }
      ],
      "source": [
        "\n",
        "\n",
        "\n",
        "\n",
        "\n",
        "\n",
        "\n",
        "\n",
        "\n",
        "all_cards=sbata_cards+trefel_cards+dinary_cards+coeur_cards\n",
        "\n",
        "shuffled_cards=shuffle_cards(all_cards)\n",
        "#player1 serving:\n",
        "\n",
        "#gideh men jerya 3 or 2 or 1\n",
        "#if 1: 8 each on one time\n",
        "#if 2 or 3: at least 2\n",
        "#you can choose  #1: 8  #2: (4,4) (3,5) (6,2) #3: (3,2,3) (2,2,4)\n",
        "jerya_times=[1,2,3]\n",
        "\n",
        "#choose the atout\n",
        "#for computer:\"90\": V or 9 and 2 more in the same type and 1 outside of the atout // 5 + cards in the same type + 1 out of the atout // V+9 only or V+9 and 7 or 8 or D or\n",
        "\n",
        "\n",
        "\n",
        "times=rd.choice(jerya_times)\n",
        "serve_cards(shuffled_cards,times,players)\n",
        "for player in players:\n",
        "  player.arrange_cards()\n",
        "  player.show_cards()\n",
        "\n",
        "\n",
        "\n"
      ]
    }
  ]
}